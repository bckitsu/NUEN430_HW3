{
 "cells": [
  {
   "cell_type": "code",
   "execution_count": 3,
   "id": "e00093a2-c0c6-4a74-b375-59ce05003056",
   "metadata": {},
   "outputs": [],
   "source": [
    "import numpy as np\n",
    "\n",
    "class MatProps:\n",
    "\n",
    "    def __init__(self, mesh, D=None, Sigma_a=None, Q=None,\n",
    "                 D_func=None, Sigma_a_func=None, Q_func=None):\n",
    "        self.mesh = mesh\n",
    "        self.D_dict = D or {}\n",
    "        self.Sigma_a_dict = Sigma_a or {}\n",
    "        self.Q_dict = Q or {}\n",
    "        self.D_func = D_func\n",
    "        self.Sigma_a_func = Sigma_a_func\n",
    "        self.Q_func = Q_func\n",
    "        self._validate()\n",
    "\n",
    "    def _validate(self):\n",
    "        import numpy as np\n",
    "        mats = np.unique(self.mesh.mat)\n",
    "        if self.D_func is None:\n",
    "            miss = set(mats) - set(self.D_dict)\n",
    "            if miss:\n",
    "                raise ValueError(f\"Missing D for materials {miss}\")\n",
    "        if self.Sigma_a_func is None:\n",
    "            miss = set(mats) - set(self.Sigma_a_dict)\n",
    "            if miss:\n",
    "                raise ValueError(f\"Missing Sigma_a for materials {miss}\")\n",
    "        if self.Q_func is None:\n",
    "            miss = set(mats) - set(self.Q_dict)\n",
    "            if miss:\n",
    "                raise ValueError(f\"Missing Q for materials {miss}\")\n",
    "\n",
    "    def get_D(self, i, j):\n",
    "        x, y = self.mesh.xc[j], self.mesh.yc[i]\n",
    "        return self.D_func(x,y) if self.D_func else self.D_dict[self.mesh.mat[i,j]]\n",
    "\n",
    "    def get_Sigma_a(self, i, j):\n",
    "        x, y = self.mesh.xc[j], self.mesh.yc[i]\n",
    "        return self.Sigma_a_func(x,y) if self.Sigma_a_func else self.Sigma_a_dict[self.mesh.mat[i,j]]\n",
    "\n",
    "    def get_Q(self, i, j):\n",
    "        x, y = self.mesh.xc[j], self.mesh.yc[i]\n",
    "        return self.Q_func(x,y) if self.Q_func else self.Q_dict[self.mesh.mat[i,j]]\n",
    "\n",
    "    def get_face_D(self, i1,j1,i2,j2):\n",
    "        D1 = self.get_D(i1,j1); D2 = self.get_D(i2,j2)\n",
    "        return 2*D1*D2/(D1+D2)\n"
   ]
  },
  {
   "cell_type": "code",
   "execution_count": null,
   "id": "20d971c4-2fd3-458f-b78c-4643a7f7425a",
   "metadata": {},
   "outputs": [],
   "source": []
  }
 ],
 "metadata": {
  "kernelspec": {
   "display_name": "Python 3 (ipykernel)",
   "language": "python",
   "name": "python3"
  },
  "language_info": {
   "codemirror_mode": {
    "name": "ipython",
    "version": 3
   },
   "file_extension": ".py",
   "mimetype": "text/x-python",
   "name": "python",
   "nbconvert_exporter": "python",
   "pygments_lexer": "ipython3",
   "version": "3.12.5"
  }
 },
 "nbformat": 4,
 "nbformat_minor": 5
}
