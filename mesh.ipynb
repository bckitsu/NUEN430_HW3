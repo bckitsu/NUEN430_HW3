{
 "cells": [
  {
   "cell_type": "code",
   "execution_count": 3,
   "id": "e09777f6-dbfe-4538-b92e-fecc012a75ac",
   "metadata": {},
   "outputs": [],
   "source": [
    "import numpy as np\n",
    "import matplotlib.pyplot as plt\n",
    "\n",
    "class Mesh2D:\n",
    "    def __init__(self, coarse_mat, domain, refinement_factor):\n",
    "        self.coarse_mat = np.array(coarse_mat)\n",
    "        self.Ny0, self.Nx0 = self.coarse_mat.shape\n",
    "        self.Lx, self.Ly = domain\n",
    "        self.r = refinement_factor\n",
    "        # Determine refined dims\n",
    "        if self.Nx0 > 1 and self.Ny0 > 1:\n",
    "            self.Nx = self.r * self.Nx0\n",
    "            self.Ny = self.r * self.Ny0\n",
    "        elif self.Nx0 == 1:\n",
    "            self.Nx = 1\n",
    "            self.Ny = self.r * self.Ny0\n",
    "        elif self.Ny0 == 1:\n",
    "            self.Ny = 1\n",
    "            self.Nx = self.r * self.Nx0\n",
    "        else:\n",
    "            self.Nx = 1\n",
    "            self.Ny = 1\n",
    "        # Spacings\n",
    "        self.dx = np.full(self.Nx, self.Lx / self.Nx)\n",
    "        self.dy = np.full(self.Ny, self.Ly / self.Ny)\n",
    "        # Cell centers\n",
    "        self.xc = np.linspace(self.dx[0]/2, self.Lx - self.dx[0]/2, self.Nx)\n",
    "        self.yc = np.linspace(self.dy[0]/2, self.Ly - self.dy[0]/2, self.Ny)\n",
    "        # Refine material map\n",
    "        self._create_refined_material_map()\n",
    "\n",
    "    def _create_refined_material_map(self):\n",
    "        self.mat = np.zeros((self.Ny, self.Nx), dtype=int)\n",
    "        for i in range(self.Ny):\n",
    "            for j in range(self.Nx):\n",
    "                ci = 0 if self.Ny0 == 1 else min(i // self.r, self.Ny0-1)\n",
    "                cj = 0 if self.Nx0 == 1 else min(j // self.r, self.Nx0-1)\n",
    "                self.mat[i, j] = self.coarse_mat[ci, cj]\n",
    "\n",
    "    def cell_to_index(self, i, j):\n",
    "        return i * self.Nx + j\n",
    "\n",
    "    def index_to_cell(self, idx):\n",
    "        return divmod(idx, self.Nx)\n",
    "\n",
    "    def plot_material_map(self, title=\"Material Map\"):\n",
    "        if self.Nx>1 and self.Ny>1:\n",
    "            plt.imshow(self.mat, origin='lower', extent=[0,self.Lx,0,self.Ly], cmap='tab10')\n",
    "            plt.colorbar(label='Material ID')\n",
    "            plt.xlabel('x'); plt.ylabel('y'); plt.title(title)\n",
    "        elif self.Ny==1:\n",
    "            plt.plot(self.xc, self.mat[0,:], 'o-'); plt.xlabel('x'); plt.ylabel('Material ID'); plt.title(title)\n",
    "        elif self.Nx==1:\n",
    "            plt.plot(self.yc, self.mat[:,0], 'o-'); plt.xlabel('y'); plt.ylabel('Material ID'); plt.title(title)\n",
    "        plt.grid(alpha=0.3)\n",
    "        plt.tight_layout()\n"
   ]
  },
  {
   "cell_type": "code",
   "execution_count": null,
   "id": "c7e2362d-28b7-4fb1-8319-71d426d77db2",
   "metadata": {},
   "outputs": [],
   "source": []
  }
 ],
 "metadata": {
  "kernelspec": {
   "display_name": "Python 3 (ipykernel)",
   "language": "python",
   "name": "python3"
  },
  "language_info": {
   "codemirror_mode": {
    "name": "ipython",
    "version": 3
   },
   "file_extension": ".py",
   "mimetype": "text/x-python",
   "name": "python",
   "nbconvert_exporter": "python",
   "pygments_lexer": "ipython3",
   "version": "3.12.5"
  }
 },
 "nbformat": 4,
 "nbformat_minor": 5
}
